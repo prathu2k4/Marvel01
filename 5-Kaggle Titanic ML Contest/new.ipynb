{
 "cells": [
  {
   "cell_type": "code",
   "execution_count": 1,
   "id": "6fce4de3",
   "metadata": {},
   "outputs": [],
   "source": [
    "import pandas as pd\n",
    "import numpy as np\n",
    "import seaborn as sns\n",
    "import matplotlib.pyplot as plt\n",
    "from sklearn.model_selection import train_test_split, cross_val_score\n",
    "from sklearn.preprocessing import LabelEncoder\n",
    "from xgboost import XGBClassifier\n",
    "from sklearn.metrics import accuracy_score"
   ]
  },
  {
   "cell_type": "markdown",
   "id": "7a137020-c1ba-40b5-8154-fe4dc1fee139",
   "metadata": {},
   "source": [
    "# 1. Load Data"
   ]
  },
  {
   "cell_type": "code",
   "execution_count": 2,
   "id": "e1218396-e22d-4b4f-a55a-e15149c71152",
   "metadata": {},
   "outputs": [],
   "source": [
    "train = pd.read_csv(\"train.csv\")\n",
    "test = pd.read_csv(\"test.csv\")"
   ]
  },
  {
   "cell_type": "markdown",
   "id": "4dcd80aa-1dd9-4dcc-b090-ea0c0ad609d0",
   "metadata": {},
   "source": [
    "# 2. Feature Engineering"
   ]
  },
  {
   "cell_type": "code",
   "execution_count": 6,
   "id": "93840a36-5b2e-4977-ba92-e71cff78ad54",
   "metadata": {},
   "outputs": [],
   "source": [
    "train['Title'] = train['Name'].str.extract(r' ([A-Za-z]+)\\.', expand=False)\n",
    "test['Title'] = test['Name'].str.extract(r' ([A-Za-z]+)\\.', expand=False)"
   ]
  },
  {
   "cell_type": "code",
   "execution_count": 7,
   "id": "b7c9acc1-fb44-40f0-9c7c-369906a40da9",
   "metadata": {},
   "outputs": [],
   "source": [
    "title_map = {\n",
    "    \"Mr\": \"Mr\", \"Miss\": \"Miss\", \"Mrs\": \"Mrs\", \"Master\": \"Master\",\n",
    "    \"Dr\": \"Rare\", \"Rev\": \"Rare\", \"Col\": \"Rare\", \"Major\": \"Rare\", \"Mlle\": \"Miss\",\n",
    "    \"Countess\": \"Rare\", \"Ms\": \"Miss\", \"Lady\": \"Rare\", \"Jonkheer\": \"Rare\",\n",
    "    \"Don\": \"Rare\", \"Dona\": \"Rare\", \"Mme\": \"Mrs\", \"Capt\": \"Rare\", \"Sir\": \"Rare\"\n",
    "}\n",
    "train['Title'] = train['Title'].map(title_map)\n",
    "test['Title'] = test['Title'].map(title_map)"
   ]
  },
  {
   "cell_type": "code",
   "execution_count": 8,
   "id": "0b20e7e7-0c98-4fe2-b784-0413a3599679",
   "metadata": {},
   "outputs": [],
   "source": [
    "for df in [train, test]:\n",
    "    df['FamilySize'] = df['SibSp'] + df['Parch'] + 1\n",
    "    df['IsAlone'] = (df['FamilySize'] == 1).astype(int)"
   ]
  },
  {
   "cell_type": "code",
   "execution_count": 10,
   "id": "0411038f-63bf-4a36-a846-7b5c5c8b9204",
   "metadata": {},
   "outputs": [],
   "source": [
    "train['Age'] = train['Age'].fillna(train['Age'].median())\n",
    "test['Age'] = test['Age'].fillna(test['Age'].median())\n",
    "\n",
    "train['Embarked'] = train['Embarked'].fillna(train['Embarked'].mode()[0])\n",
    "test['Embarked'] = test['Embarked'].fillna(test['Embarked'].mode()[0])\n",
    "\n",
    "test['Fare'] = test['Fare'].fillna(test['Fare'].median())"
   ]
  },
  {
   "cell_type": "code",
   "execution_count": 12,
   "id": "a0a0e414-5608-4094-9925-820341a710da",
   "metadata": {},
   "outputs": [],
   "source": [
    "le = LabelEncoder()\n",
    "for col in ['Sex', 'Embarked', 'Title']:\n",
    "    train[col] = le.fit_transform(train[col])\n",
    "    test[col] = le.transform(test[col])"
   ]
  },
  {
   "cell_type": "markdown",
   "id": "478504b3-56b8-4fb4-8aa8-3a63da326806",
   "metadata": {},
   "source": [
    "# 3. Select Features"
   ]
  },
  {
   "cell_type": "code",
   "execution_count": 15,
   "id": "5c745007-6920-44d1-9a59-b5511b7e9522",
   "metadata": {},
   "outputs": [],
   "source": [
    "features = ['Pclass','Sex','Age','Fare','Embarked',\n",
    "            'FamilySize','IsAlone','Title']\n",
    "\n",
    "X = train[features]\n",
    "y = train['Survived']\n",
    "X_test = test[features]"
   ]
  },
  {
   "cell_type": "markdown",
   "id": "973091f0-32df-4391-877a-219c5e6e0983",
   "metadata": {},
   "source": [
    "# 4. Train/Validation Split"
   ]
  },
  {
   "cell_type": "code",
   "execution_count": 16,
   "id": "e588aa03-7eb7-4bef-bbf3-2d6041f1ab7e",
   "metadata": {},
   "outputs": [],
   "source": [
    "X_train, X_val, y_train, y_val = train_test_split(\n",
    "    X, y, test_size=0.2, random_state=42\n",
    ")"
   ]
  },
  {
   "cell_type": "markdown",
   "id": "5e5344a1-3d68-4e3a-8431-34486dee53e0",
   "metadata": {},
   "source": [
    " # 5. Model (XGBoost)"
   ]
  },
  {
   "cell_type": "code",
   "execution_count": 1,
   "id": "39575497-f8b0-4a32-9e01-aa497c5a1b13",
   "metadata": {},
   "outputs": [
    {
     "ename": "NameError",
     "evalue": "name 'XGBClassifier' is not defined",
     "output_type": "error",
     "traceback": [
      "\u001b[1;31m---------------------------------------------------------------------------\u001b[0m",
      "\u001b[1;31mNameError\u001b[0m                                 Traceback (most recent call last)",
      "Cell \u001b[1;32mIn[1], line 1\u001b[0m\n\u001b[1;32m----> 1\u001b[0m model \u001b[38;5;241m=\u001b[39m \u001b[43mXGBClassifier\u001b[49m(\n\u001b[0;32m      2\u001b[0m     n_estimators\u001b[38;5;241m=\u001b[39m\u001b[38;5;241m700\u001b[39m,\n\u001b[0;32m      3\u001b[0m     max_depth\u001b[38;5;241m=\u001b[39m\u001b[38;5;241m4\u001b[39m,\n\u001b[0;32m      4\u001b[0m     learning_rate\u001b[38;5;241m=\u001b[39m\u001b[38;5;241m0.01\u001b[39m,\n\u001b[0;32m      5\u001b[0m     subsample\u001b[38;5;241m=\u001b[39m\u001b[38;5;241m0.8\u001b[39m,\n\u001b[0;32m      6\u001b[0m     colsample_bytree\u001b[38;5;241m=\u001b[39m\u001b[38;5;241m0.8\u001b[39m,\n\u001b[0;32m      7\u001b[0m     random_state\u001b[38;5;241m=\u001b[39m\u001b[38;5;241m42\u001b[39m\n\u001b[0;32m      8\u001b[0m )\n\u001b[0;32m      9\u001b[0m model\u001b[38;5;241m.\u001b[39mfit(X_train, y_train)\n\u001b[0;32m     11\u001b[0m \u001b[38;5;66;03m# Validation\u001b[39;00m\n",
      "\u001b[1;31mNameError\u001b[0m: name 'XGBClassifier' is not defined"
     ]
    }
   ],
   "source": [
    "model = XGBClassifier(\n",
    "    n_estimators=700,\n",
    "    max_depth=4,\n",
    "    learning_rate=0.01,\n",
    "    subsample=0.8,\n",
    "    colsample_bytree=0.8,\n",
    "    random_state=42\n",
    ")\n",
    "model.fit(X_train, y_train)\n",
    "\n",
    "# Validation\n",
    "y_pred = model.predict(X_val)\n",
    "print(\"Validation Accuracy:\", accuracy_score(y_val, y_pred))\n",
    "\n",
    "# Cross-validation (5-fold)\n",
    "cv_score = cross_val_score(model, X, y, cv=5).mean()\n",
    "print(\"Cross-validation Accuracy:\", cv_score)"
   ]
  },
  {
   "cell_type": "markdown",
   "id": "2279eac9-6197-4b9d-9a27-b1b4b0564ce4",
   "metadata": {},
   "source": [
    "# 6. Predict on Test"
   ]
  },
  {
   "cell_type": "code",
   "execution_count": 18,
   "id": "0bce9008-40b8-4534-8e8b-9b32c1fd371a",
   "metadata": {},
   "outputs": [
    {
     "name": "stdout",
     "output_type": "stream",
     "text": [
      "✅ Submission file created: submission.csv\n"
     ]
    }
   ],
   "source": [
    "predictions = model.predict(X_test)\n",
    "\n",
    "submission = pd.DataFrame({\n",
    "    \"PassengerId\": test[\"PassengerId\"],\n",
    "    \"Survived\": predictions\n",
    "})\n",
    "submission.to_csv(\"submission.csv\", index=False)\n",
    "print(\"✅ Submission file created: submission.csv\")"
   ]
  },
  {
   "cell_type": "code",
   "execution_count": null,
   "id": "5a0a87d1-fba0-4323-b788-b2864316b619",
   "metadata": {},
   "outputs": [],
   "source": []
  }
 ],
 "metadata": {
  "kernelspec": {
   "display_name": "Python 3",
   "language": "python",
   "name": "python3"
  },
  "language_info": {
   "codemirror_mode": {
    "name": "ipython",
    "version": 3
   },
   "file_extension": ".py",
   "mimetype": "text/x-python",
   "name": "python",
   "nbconvert_exporter": "python",
   "pygments_lexer": "ipython3",
   "version": "3.12.3"
  }
 },
 "nbformat": 4,
 "nbformat_minor": 5
}
